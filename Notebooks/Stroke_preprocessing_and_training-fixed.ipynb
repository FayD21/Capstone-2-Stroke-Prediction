{
 "cells": [
  {
   "cell_type": "markdown",
   "metadata": {},
   "source": [
    "# Stroke Pre-Processing and Training Data<a id='4_Pre-Processing_and_Training_Data'></a>"
   ]
  },
  {
   "cell_type": "markdown",
   "metadata": {},
   "source": [
    "## 3.1 Imports<a id='4.3_Imports'></a>"
   ]
  },
  {
   "cell_type": "code",
   "execution_count": 1,
   "metadata": {},
   "outputs": [],
   "source": [
    "import os\n",
    "import datetime\n",
    "import pickle\n",
    "import pandas as pd\n",
    "import numpy as np\n",
    "import matplotlib.pyplot as plt\n",
    "import seaborn as sns\n",
    "from sklearn.preprocessing import scale\n",
    "from sklearn.preprocessing import StandardScaler, MinMaxScaler\n",
    "from sklearn.model_selection import train_test_split, cross_validate, GridSearchCV, learning_curve, KFold, cross_val_score\n",
    "from sklearn.linear_model import LogisticRegression\n",
    "from sklearn.ensemble import RandomForestClassifier, GradientBoostingClassifier\n",
    "from sklearn.metrics import accuracy_score, roc_auc_score, classification_report, f1_score, roc_curve, precision_recall_curve\n",
    "from sklearn.inspection import plot_partial_dependence\n",
    "\n",
    "def precision_recall_plot(X: pd.DataFrame, y: pd.Series, model) -> None:\n",
    "    \"\"\"\n",
    "    Return the precision/recall plot of the input data\n",
    "    :param X:  X input as pandas dataframe\n",
    "    :param y:  y input as pandas series\n",
    "    :return: Plot of precision vs. recall\n",
    "    \"\"\"\n",
    "    probs = np.array(model.predict_proba(X)[:, 1])\n",
    "    precision, recall, thresh = precision_recall_curve(y, probs)\n",
    "    plt.plot(thresh, precision[:-1], 'b--', label='Precision')\n",
    "    plt.plot(thresh, recall[:-1], 'g--', label='Recall')\n",
    "    plt.xlabel('Threshold')\n",
    "    plt.legend(loc='upper left')\n",
    "    plt.ylim([0, 1])\n",
    "    plt.show()\n",
    "    \n",
    "def get_classification_report(X: pd.DataFrame, y: pd.Series, model, threshold) -> None:\n",
    "    \"\"\"\n",
    "    Return classification report of input data and threshold\n",
    "    :param X:  X input as pandas dataframe\n",
    "    :param y:  y input as pandas series\n",
    "    :param threshold: Binary prediction threshold between (0,1)\n",
    "    :return:\n",
    "    \"\"\"\n",
    "    probs = model.predict_proba(X)[::, 1]\n",
    "    predictions = np.where(probs >= threshold, 1, 0)\n",
    "    print(classification_report(y, predictions))"
   ]
  },
  {
   "cell_type": "markdown",
   "metadata": {},
   "source": [
    "## Load Data"
   ]
  },
  {
   "cell_type": "code",
   "execution_count": 2,
   "metadata": {
    "scrolled": false
   },
   "outputs": [
    {
     "data": {
      "text/html": [
       "<div>\n",
       "<style scoped>\n",
       "    .dataframe tbody tr th:only-of-type {\n",
       "        vertical-align: middle;\n",
       "    }\n",
       "\n",
       "    .dataframe tbody tr th {\n",
       "        vertical-align: top;\n",
       "    }\n",
       "\n",
       "    .dataframe thead th {\n",
       "        text-align: right;\n",
       "    }\n",
       "</style>\n",
       "<table border=\"1\" class=\"dataframe\">\n",
       "  <thead>\n",
       "    <tr style=\"text-align: right;\">\n",
       "      <th></th>\n",
       "      <th>0</th>\n",
       "      <th>1</th>\n",
       "      <th>2</th>\n",
       "      <th>3</th>\n",
       "      <th>4</th>\n",
       "    </tr>\n",
       "  </thead>\n",
       "  <tbody>\n",
       "    <tr>\n",
       "      <th>gender</th>\n",
       "      <td>1.00</td>\n",
       "      <td>0.000000</td>\n",
       "      <td>1.00</td>\n",
       "      <td>0.00</td>\n",
       "      <td>0.00</td>\n",
       "    </tr>\n",
       "    <tr>\n",
       "      <th>age</th>\n",
       "      <td>67.00</td>\n",
       "      <td>61.000000</td>\n",
       "      <td>80.00</td>\n",
       "      <td>49.00</td>\n",
       "      <td>79.00</td>\n",
       "    </tr>\n",
       "    <tr>\n",
       "      <th>hypertension</th>\n",
       "      <td>0.00</td>\n",
       "      <td>0.000000</td>\n",
       "      <td>0.00</td>\n",
       "      <td>0.00</td>\n",
       "      <td>1.00</td>\n",
       "    </tr>\n",
       "    <tr>\n",
       "      <th>heart_disease</th>\n",
       "      <td>1.00</td>\n",
       "      <td>0.000000</td>\n",
       "      <td>1.00</td>\n",
       "      <td>0.00</td>\n",
       "      <td>0.00</td>\n",
       "    </tr>\n",
       "    <tr>\n",
       "      <th>ever_married</th>\n",
       "      <td>1.00</td>\n",
       "      <td>1.000000</td>\n",
       "      <td>1.00</td>\n",
       "      <td>1.00</td>\n",
       "      <td>1.00</td>\n",
       "    </tr>\n",
       "    <tr>\n",
       "      <th>avg_glucose_level</th>\n",
       "      <td>228.69</td>\n",
       "      <td>202.210000</td>\n",
       "      <td>105.92</td>\n",
       "      <td>171.23</td>\n",
       "      <td>174.12</td>\n",
       "    </tr>\n",
       "    <tr>\n",
       "      <th>bmi</th>\n",
       "      <td>36.60</td>\n",
       "      <td>28.893237</td>\n",
       "      <td>32.50</td>\n",
       "      <td>34.40</td>\n",
       "      <td>24.00</td>\n",
       "    </tr>\n",
       "    <tr>\n",
       "      <th>smoking_status</th>\n",
       "      <td>1.00</td>\n",
       "      <td>0.000000</td>\n",
       "      <td>0.00</td>\n",
       "      <td>1.00</td>\n",
       "      <td>0.00</td>\n",
       "    </tr>\n",
       "    <tr>\n",
       "      <th>stroke</th>\n",
       "      <td>1.00</td>\n",
       "      <td>1.000000</td>\n",
       "      <td>1.00</td>\n",
       "      <td>1.00</td>\n",
       "      <td>1.00</td>\n",
       "    </tr>\n",
       "    <tr>\n",
       "      <th>residence_type</th>\n",
       "      <td>1.00</td>\n",
       "      <td>0.000000</td>\n",
       "      <td>0.00</td>\n",
       "      <td>1.00</td>\n",
       "      <td>0.00</td>\n",
       "    </tr>\n",
       "  </tbody>\n",
       "</table>\n",
       "</div>"
      ],
      "text/plain": [
       "                        0           1       2       3       4\n",
       "gender               1.00    0.000000    1.00    0.00    0.00\n",
       "age                 67.00   61.000000   80.00   49.00   79.00\n",
       "hypertension         0.00    0.000000    0.00    0.00    1.00\n",
       "heart_disease        1.00    0.000000    1.00    0.00    0.00\n",
       "ever_married         1.00    1.000000    1.00    1.00    1.00\n",
       "avg_glucose_level  228.69  202.210000  105.92  171.23  174.12\n",
       "bmi                 36.60   28.893237   32.50   34.40   24.00\n",
       "smoking_status       1.00    0.000000    0.00    1.00    0.00\n",
       "stroke               1.00    1.000000    1.00    1.00    1.00\n",
       "residence_type       1.00    0.000000    0.00    1.00    0.00"
      ]
     },
     "execution_count": 2,
     "metadata": {},
     "output_type": "execute_result"
    }
   ],
   "source": [
    "stroke_data = pd.read_csv('../data/stroke_data_cleaned.csv')\n",
    "stroke_data.head().T"
   ]
  },
  {
   "cell_type": "code",
   "execution_count": 3,
   "metadata": {},
   "outputs": [
    {
     "data": {
      "text/plain": [
       "(5109, 10)"
      ]
     },
     "execution_count": 3,
     "metadata": {},
     "output_type": "execute_result"
    }
   ],
   "source": [
    "stroke_data.shape"
   ]
  },
  {
   "cell_type": "code",
   "execution_count": 4,
   "metadata": {},
   "outputs": [
    {
     "data": {
      "text/plain": [
       "0    4860\n",
       "1     249\n",
       "Name: stroke, dtype: int64"
      ]
     },
     "execution_count": 4,
     "metadata": {},
     "output_type": "execute_result"
    }
   ],
   "source": [
    "stroke_data.stroke.value_counts()"
   ]
  },
  {
   "cell_type": "markdown",
   "metadata": {},
   "source": [
    "### Split X/Y"
   ]
  },
  {
   "cell_type": "code",
   "execution_count": 5,
   "metadata": {},
   "outputs": [],
   "source": [
    "X = stroke_data.drop('stroke', axis=1)\n",
    "y = stroke_data[['stroke']]"
   ]
  },
  {
   "cell_type": "code",
   "execution_count": 6,
   "metadata": {},
   "outputs": [
    {
     "data": {
      "text/plain": [
       "stroke\n",
       "0         4860\n",
       "1          249\n",
       "dtype: int64"
      ]
     },
     "execution_count": 6,
     "metadata": {},
     "output_type": "execute_result"
    }
   ],
   "source": [
    "y.value_counts() #imbalanced dataset"
   ]
  },
  {
   "cell_type": "markdown",
   "metadata": {},
   "source": [
    "# Modeling\n",
    "There are 3 models that I will use here: Logistic Regression, Random Forest, and Gradient Boosting. "
   ]
  },
  {
   "cell_type": "markdown",
   "metadata": {},
   "source": [
    "## Logistic Regression"
   ]
  },
  {
   "cell_type": "markdown",
   "metadata": {},
   "source": [
    "##### Fit logistic model"
   ]
  },
  {
   "cell_type": "code",
   "execution_count": 7,
   "metadata": {},
   "outputs": [
    {
     "data": {
      "text/html": [
       "<div>\n",
       "<style scoped>\n",
       "    .dataframe tbody tr th:only-of-type {\n",
       "        vertical-align: middle;\n",
       "    }\n",
       "\n",
       "    .dataframe tbody tr th {\n",
       "        vertical-align: top;\n",
       "    }\n",
       "\n",
       "    .dataframe thead th {\n",
       "        text-align: right;\n",
       "    }\n",
       "</style>\n",
       "<table border=\"1\" class=\"dataframe\">\n",
       "  <thead>\n",
       "    <tr style=\"text-align: right;\">\n",
       "      <th></th>\n",
       "      <th>gender</th>\n",
       "      <th>age</th>\n",
       "      <th>hypertension</th>\n",
       "      <th>heart_disease</th>\n",
       "      <th>ever_married</th>\n",
       "      <th>avg_glucose_level</th>\n",
       "      <th>bmi</th>\n",
       "      <th>smoking_status</th>\n",
       "      <th>residence_type</th>\n",
       "    </tr>\n",
       "  </thead>\n",
       "  <tbody>\n",
       "    <tr>\n",
       "      <th>0</th>\n",
       "      <td>1.189791</td>\n",
       "      <td>1.051242</td>\n",
       "      <td>-0.328637</td>\n",
       "      <td>4.184599</td>\n",
       "      <td>0.723678</td>\n",
       "      <td>2.706450</td>\n",
       "      <td>1.001041</td>\n",
       "      <td>1.433107</td>\n",
       "      <td>0.983884</td>\n",
       "    </tr>\n",
       "    <tr>\n",
       "      <th>1</th>\n",
       "      <td>-0.840484</td>\n",
       "      <td>0.785889</td>\n",
       "      <td>-0.328637</td>\n",
       "      <td>-0.238972</td>\n",
       "      <td>0.723678</td>\n",
       "      <td>2.121652</td>\n",
       "      <td>-0.000165</td>\n",
       "      <td>-0.697785</td>\n",
       "      <td>-1.016380</td>\n",
       "    </tr>\n",
       "    <tr>\n",
       "      <th>2</th>\n",
       "      <td>1.189791</td>\n",
       "      <td>1.626174</td>\n",
       "      <td>-0.328637</td>\n",
       "      <td>4.184599</td>\n",
       "      <td>0.723678</td>\n",
       "      <td>-0.004867</td>\n",
       "      <td>0.468399</td>\n",
       "      <td>-0.697785</td>\n",
       "      <td>-1.016380</td>\n",
       "    </tr>\n",
       "    <tr>\n",
       "      <th>3</th>\n",
       "      <td>-0.840484</td>\n",
       "      <td>0.255182</td>\n",
       "      <td>-0.328637</td>\n",
       "      <td>-0.238972</td>\n",
       "      <td>0.723678</td>\n",
       "      <td>1.437473</td>\n",
       "      <td>0.715233</td>\n",
       "      <td>1.433107</td>\n",
       "      <td>0.983884</td>\n",
       "    </tr>\n",
       "    <tr>\n",
       "      <th>4</th>\n",
       "      <td>-0.840484</td>\n",
       "      <td>1.581949</td>\n",
       "      <td>3.042866</td>\n",
       "      <td>-0.238972</td>\n",
       "      <td>0.723678</td>\n",
       "      <td>1.501297</td>\n",
       "      <td>-0.635858</td>\n",
       "      <td>-0.697785</td>\n",
       "      <td>-1.016380</td>\n",
       "    </tr>\n",
       "  </tbody>\n",
       "</table>\n",
       "</div>"
      ],
      "text/plain": [
       "     gender       age  hypertension  heart_disease  ever_married  \\\n",
       "0  1.189791  1.051242     -0.328637       4.184599      0.723678   \n",
       "1 -0.840484  0.785889     -0.328637      -0.238972      0.723678   \n",
       "2  1.189791  1.626174     -0.328637       4.184599      0.723678   \n",
       "3 -0.840484  0.255182     -0.328637      -0.238972      0.723678   \n",
       "4 -0.840484  1.581949      3.042866      -0.238972      0.723678   \n",
       "\n",
       "   avg_glucose_level       bmi  smoking_status  residence_type  \n",
       "0           2.706450  1.001041        1.433107        0.983884  \n",
       "1           2.121652 -0.000165       -0.697785       -1.016380  \n",
       "2          -0.004867  0.468399       -0.697785       -1.016380  \n",
       "3           1.437473  0.715233        1.433107        0.983884  \n",
       "4           1.501297 -0.635858       -0.697785       -1.016380  "
      ]
     },
     "execution_count": 7,
     "metadata": {},
     "output_type": "execute_result"
    }
   ],
   "source": [
    "#Applying Standardization using StandardScaler().  Since we're using a logistic regression...good to use scaling.\n",
    "columns = X.columns\n",
    "scaler = StandardScaler()\n",
    "X_std = scaler.fit_transform(X)\n",
    "X_std = pd.DataFrame(X_std, columns=columns)\n",
    "X_std.head()"
   ]
  },
  {
   "cell_type": "code",
   "execution_count": 8,
   "metadata": {},
   "outputs": [],
   "source": [
    "#train and test split for standardized features.\n",
    "X_train, X_test, y_train, y_test = train_test_split(X_std, y, test_size=0.3, random_state=45)"
   ]
  },
  {
   "cell_type": "code",
   "execution_count": 9,
   "metadata": {},
   "outputs": [
    {
     "data": {
      "text/plain": [
       "((3576, 9), (1533, 9))"
      ]
     },
     "execution_count": 9,
     "metadata": {},
     "output_type": "execute_result"
    }
   ],
   "source": [
    "X_train.shape, X_test.shape "
   ]
  },
  {
   "cell_type": "markdown",
   "metadata": {},
   "source": [
    "##### Fit logistic model"
   ]
  },
  {
   "cell_type": "code",
   "execution_count": 10,
   "metadata": {},
   "outputs": [
    {
     "data": {
      "text/plain": [
       "LogisticRegression()"
      ]
     },
     "execution_count": 10,
     "metadata": {},
     "output_type": "execute_result"
    }
   ],
   "source": [
    "lr_std = LogisticRegression(solver='lbfgs') #had to add a solver 'lbfgs'\n",
    "lr_std.fit(X_train, y_train.values.ravel()) #had to add .values.ravel() to silence warning"
   ]
  },
  {
   "cell_type": "markdown",
   "metadata": {},
   "source": [
    "##### Predict on the test set for scoring/diagnostics"
   ]
  },
  {
   "cell_type": "code",
   "execution_count": 11,
   "metadata": {},
   "outputs": [],
   "source": [
    "y_pred = lr_std.predict(X_test)\n",
    "y_prob = lr_std.predict_proba(X_test)[::, 1]"
   ]
  },
  {
   "cell_type": "code",
   "execution_count": 12,
   "metadata": {},
   "outputs": [
    {
     "data": {
      "text/plain": [
       "<AxesSubplot:>"
      ]
     },
     "execution_count": 12,
     "metadata": {},
     "output_type": "execute_result"
    },
    {
     "data": {
      "image/png": "[encoded data removed]",
      "text/plain": [
       "<Figure size 432x288 with 1 Axes>"
      ]
     },
     "metadata": {
      "needs_background": "light"
     },
     "output_type": "display_data"
    }
   ],
   "source": [
    "pd.Series(y_prob).hist(bins=10)"
   ]
  },
  {
   "cell_type": "code",
   "execution_count": 13,
   "metadata": {},
   "outputs": [
    {
     "data": {
      "text/plain": [
       "0    1533\n",
       "dtype: int64"
      ]
     },
     "execution_count": 13,
     "metadata": {},
     "output_type": "execute_result"
    }
   ],
   "source": [
    "pd.Series(y_pred).value_counts() ### We're getting all 0s...since data is imbalanced.  Need to change threshold."
   ]
  },
  {
   "cell_type": "markdown",
   "metadata": {},
   "source": [
    "##### Metrics"
   ]
  },
  {
   "cell_type": "markdown",
   "metadata": {},
   "source": [
    "ACU Score - Doing better than random which is 0.5...so the model is learning"
   ]
  },
  {
   "cell_type": "code",
   "execution_count": 14,
   "metadata": {},
   "outputs": [
    {
     "name": "stdout",
     "output_type": "stream",
     "text": [
      "0.8449802964908989\n"
     ]
    }
   ],
   "source": [
    "print(roc_auc_score(y_test, y_prob)) # Make sure to use the probability instead of the prediction value"
   ]
  },
  {
   "cell_type": "markdown",
   "metadata": {},
   "source": [
    "Precision/Recall Plot - Let's find that ideal threshold number"
   ]
  },
  {
   "cell_type": "code",
   "execution_count": 15,
   "metadata": {},
   "outputs": [
    {
     "data": {
      "image/png": "[encoded data removed]",
      "text/plain": [
       "<Figure size 432x288 with 1 Axes>"
      ]
     },
     "metadata": {
      "needs_background": "light"
     },
     "output_type": "display_data"
    }
   ],
   "source": [
    "precision_recall_plot(X_test, y_test, lr_std)"
   ]
  },
  {
   "cell_type": "markdown",
   "metadata": {},
   "source": [
    "Classification report - Let's see how well we're doing with precision and recall for stroke/non-stroke"
   ]
  },
  {
   "cell_type": "code",
   "execution_count": 16,
   "metadata": {},
   "outputs": [
    {
     "name": "stdout",
     "output_type": "stream",
     "text": [
      "              precision    recall  f1-score   support\n",
      "\n",
      "           0       0.95      1.00      0.97      1460\n",
      "           1       0.30      0.04      0.07        73\n",
      "\n",
      "    accuracy                           0.95      1533\n",
      "   macro avg       0.63      0.52      0.52      1533\n",
      "weighted avg       0.92      0.95      0.93      1533\n",
      "\n"
     ]
    }
   ],
   "source": [
    "get_classification_report(X_test, y_test, lr_std, threshold=0.35)"
   ]
  },
  {
   "cell_type": "markdown",
   "metadata": {},
   "source": [
    "**Maybe we set the threshold to around 0.35??? since we're doing well at being precise for stroke cases**"
   ]
  },
  {
   "cell_type": "code",
   "execution_count": 56,
   "metadata": {},
   "outputs": [
    {
     "name": "stdout",
     "output_type": "stream",
     "text": [
      "Accuracy score: 0.9523809523809523\n"
     ]
    }
   ],
   "source": [
    "#Logistic Regression - Accuracy Score\n",
    "Accuracy_lr = accuracy_score(y_test, y_pred)\n",
    "print('Accuracy score: ' +str(Accuracy_lr))"
   ]
  },
  {
   "cell_type": "code",
   "execution_count": 18,
   "metadata": {},
   "outputs": [
    {
     "name": "stdout",
     "output_type": "stream",
     "text": [
      "[0.76826484 0.8390411  0.85251142 0.90680039 0.83928571]\n",
      "Mean cross validation test score: 0.841180691454664\n",
      "Mean cross validation train score: 0.8387682072829131\n",
      "Standard deviation in cv test scores: 0.044179679722383326\n"
     ]
    }
   ],
   "source": [
    "#Logistic Regression - Cross Validation Score\n",
    "cv_scores_test= cross_val_score(lr_std, X_test, y_test.values.ravel(), cv=5, scoring='roc_auc')\n",
    "cv_scores_train= cross_val_score(lr_std, X_train, y_train.values.ravel(), cv=5, scoring='roc_auc')\n",
    "print(cv_scores_test)\n",
    "cv_scores_lr_test= cv_scores_test.mean()\n",
    "cv_scores_lr_train= cv_scores_train.mean()\n",
    "cv_scores_std_test_lr= cv_scores_test.std()\n",
    "print ('Mean cross validation test score: ' +str(cv_scores_lr_test))\n",
    "print ('Mean cross validation train score: ' +str(cv_scores_lr_train))\n",
    "print ('Standard deviation in cv test scores: ' +str(cv_scores_std_test_lr))"
   ]
  },
  {
   "cell_type": "markdown",
   "metadata": {},
   "source": [
    "## Random Forest"
   ]
  },
  {
   "cell_type": "markdown",
   "metadata": {},
   "source": [
    "##### Preprocessing the data \n",
    "We don't want scaled since doing a tree based model"
   ]
  },
  {
   "cell_type": "code",
   "execution_count": 19,
   "metadata": {},
   "outputs": [],
   "source": [
    "X_train, X_test, y_train, y_test = train_test_split(X, y, test_size=0.3, random_state=45)"
   ]
  },
  {
   "cell_type": "markdown",
   "metadata": {},
   "source": [
    "##### Fit the model\n",
    "Doing a grid search this time since random forests have a lot of parameters to tune"
   ]
  },
  {
   "cell_type": "code",
   "execution_count": 20,
   "metadata": {},
   "outputs": [],
   "source": [
    "rfc = RandomForestClassifier(random_state=42)\n",
    "param_grid = {\n",
    "    'n_estimators': [50, 100],\n",
    "    'max_features': ['auto', 'sqrt', 'log2'],\n",
    "    'max_depth' : [2, 3, 4],\n",
    "    'criterion' :['gini', 'entropy']\n",
    "}\n",
    "grid_search = GridSearchCV(estimator=rfc, param_grid=param_grid, cv=3)"
   ]
  },
  {
   "cell_type": "code",
   "execution_count": 21,
   "metadata": {},
   "outputs": [
    {
     "data": {
      "text/plain": [
       "GridSearchCV(cv=3, estimator=RandomForestClassifier(random_state=42),\n",
       "             param_grid={'criterion': ['gini', 'entropy'],\n",
       "                         'max_depth': [2, 3, 4],\n",
       "                         'max_features': ['auto', 'sqrt', 'log2'],\n",
       "                         'n_estimators': [50, 100]})"
      ]
     },
     "execution_count": 21,
     "metadata": {},
     "output_type": "execute_result"
    }
   ],
   "source": [
    "grid_search.fit(X_train, y_train.values.ravel())"
   ]
  },
  {
   "cell_type": "code",
   "execution_count": 22,
   "metadata": {},
   "outputs": [
    {
     "data": {
      "text/plain": [
       "RandomForestClassifier(max_depth=2, n_estimators=50, random_state=42)"
      ]
     },
     "execution_count": 22,
     "metadata": {},
     "output_type": "execute_result"
    }
   ],
   "source": [
    "best_rfc = grid_search.best_estimator_\n",
    "best_rfc # Getting the best model out of the set of models that were searched"
   ]
  },
  {
   "cell_type": "markdown",
   "metadata": {},
   "source": [
    "##### Predict on the test set for scoring/diagnostics"
   ]
  },
  {
   "cell_type": "code",
   "execution_count": 23,
   "metadata": {},
   "outputs": [],
   "source": [
    "y_pred = best_rfc.predict(X_test)\n",
    "y_prob = best_rfc.predict_proba(X_test)[::, 1]"
   ]
  },
  {
   "cell_type": "code",
   "execution_count": 24,
   "metadata": {},
   "outputs": [
    {
     "data": {
      "text/plain": [
       "<AxesSubplot:>"
      ]
     },
     "execution_count": 24,
     "metadata": {},
     "output_type": "execute_result"
    },
    {
     "data": {
      "image/png": "[encoded data removed]",
      "text/plain": [
       "<Figure size 432x288 with 1 Axes>"
      ]
     },
     "metadata": {
      "needs_background": "light"
     },
     "output_type": "display_data"
    }
   ],
   "source": [
    "pd.Series(y_prob).hist(bins=10)"
   ]
  },
  {
   "cell_type": "code",
   "execution_count": 25,
   "metadata": {},
   "outputs": [
    {
     "data": {
      "text/plain": [
       "0    1533\n",
       "dtype: int64"
      ]
     },
     "execution_count": 25,
     "metadata": {},
     "output_type": "execute_result"
    }
   ],
   "source": [
    "pd.Series(y_pred).value_counts() ### We're getting all 0s...since data is imbalanced.  Need to change threshold."
   ]
  },
  {
   "cell_type": "markdown",
   "metadata": {},
   "source": [
    "##### Metrics"
   ]
  },
  {
   "cell_type": "markdown",
   "metadata": {},
   "source": [
    "ACU Score - Model still learned!"
   ]
  },
  {
   "cell_type": "code",
   "execution_count": 26,
   "metadata": {},
   "outputs": [
    {
     "name": "stdout",
     "output_type": "stream",
     "text": [
      "0.8385485081628823\n"
     ]
    }
   ],
   "source": [
    "print(roc_auc_score(y_test, y_prob)) # Make sure to use the probability instead of the prediction value"
   ]
  },
  {
   "cell_type": "markdown",
   "metadata": {},
   "source": [
    "Precision/Recall Plot - Let's find that ideal threshold number"
   ]
  },
  {
   "cell_type": "code",
   "execution_count": 27,
   "metadata": {},
   "outputs": [
    {
     "data": {
      "image/png": "[encoded data removed]",
      "text/plain": [
       "<Figure size 432x288 with 1 Axes>"
      ]
     },
     "metadata": {
      "needs_background": "light"
     },
     "output_type": "display_data"
    }
   ],
   "source": [
    "precision_recall_plot(X_test, y_test, best_rfc)"
   ]
  },
  {
   "cell_type": "markdown",
   "metadata": {},
   "source": [
    "Classification report - Let's see how well we're doing with precision and recall for stroke/non-stroke"
   ]
  },
  {
   "cell_type": "code",
   "execution_count": 28,
   "metadata": {},
   "outputs": [
    {
     "name": "stdout",
     "output_type": "stream",
     "text": [
      "              precision    recall  f1-score   support\n",
      "\n",
      "           0       0.98      0.87      0.92      1460\n",
      "           1       0.18      0.56      0.27        73\n",
      "\n",
      "    accuracy                           0.86      1533\n",
      "   macro avg       0.58      0.72      0.59      1533\n",
      "weighted avg       0.94      0.86      0.89      1533\n",
      "\n"
     ]
    }
   ],
   "source": [
    "get_classification_report(X_test, y_test, best_rfc, threshold=0.11)"
   ]
  },
  {
   "cell_type": "markdown",
   "metadata": {},
   "source": [
    "**Maybe we set the threshold to around 0.12??? since we're doing well at being precise for stroke cases**"
   ]
  },
  {
   "cell_type": "markdown",
   "metadata": {},
   "source": [
    "##### Model Explanation\n",
    "Let's start to understand what is being learned by the model"
   ]
  },
  {
   "cell_type": "markdown",
   "metadata": {},
   "source": [
    "Feature importance - This will show us which variable have the greatest impact (not necessarily direction)\n",
    "to prediction stroke/not"
   ]
  },
  {
   "cell_type": "code",
   "execution_count": 29,
   "metadata": {},
   "outputs": [],
   "source": [
    "rfc_feature_importance = pd.Series(best_rfc.feature_importances_, index=X.columns)"
   ]
  },
  {
   "cell_type": "code",
   "execution_count": 30,
   "metadata": {},
   "outputs": [
    {
     "data": {
      "text/plain": [
       "<AxesSubplot:>"
      ]
     },
     "execution_count": 30,
     "metadata": {},
     "output_type": "execute_result"
    },
    {
     "data": {
      "image/png": "[encoded data removed]",
      "text/plain": [
       "<Figure size 432x288 with 1 Axes>"
      ]
     },
     "metadata": {
      "needs_background": "light"
     },
     "output_type": "display_data"
    }
   ],
   "source": [
    "rfc_feature_importance.nlargest(10).sort_values(ascending=True).plot.barh()"
   ]
  },
  {
   "cell_type": "markdown",
   "metadata": {},
   "source": [
    "Partial Dependence - This will show us direction and when we'd expect increases in stroke likelihood for a given\n",
    "variable"
   ]
  },
  {
   "cell_type": "code",
   "execution_count": 31,
   "metadata": {},
   "outputs": [
    {
     "data": {
      "text/plain": [
       "<sklearn.inspection._plot.partial_dependence.PartialDependenceDisplay at 0x7fc98f2f52d0>"
      ]
     },
     "execution_count": 31,
     "metadata": {},
     "output_type": "execute_result"
    },
    {
     "data": {
      "image/png": "[encoded data removed]",
      "text/plain": [
       "<Figure size 432x288 with 4 Axes>"
      ]
     },
     "metadata": {
      "needs_background": "light"
     },
     "output_type": "display_data"
    }
   ],
   "source": [
    "plot_partial_dependence(best_rfc, X_test, features=['age', 'avg_glucose_level', 'bmi'])"
   ]
  },
  {
   "cell_type": "code",
   "execution_count": 53,
   "metadata": {
    "scrolled": true
   },
   "outputs": [
    {
     "name": "stdout",
     "output_type": "stream",
     "text": [
      "Accuracy score: 0.9523809523809523\n"
     ]
    }
   ],
   "source": [
    "#Random Forest - Accuracy Score\n",
    "Accuracy_rfc = best_rfc.score(X_test,y_test)\n",
    "print('Accuracy score: ' +str(Accuracy_rfc))"
   ]
  },
  {
   "cell_type": "code",
   "execution_count": 33,
   "metadata": {},
   "outputs": [
    {
     "name": "stdout",
     "output_type": "stream",
     "text": [
      "[0.71038813 0.82477169 0.86518265 0.90203033 0.83390411]\n",
      "Mean cross validation test score: 0.8272553816046967\n",
      "Mean cross validation train score: 0.8423487394957985\n",
      "Standard deviation in cv test scores: 0.06440201888872178\n"
     ]
    }
   ],
   "source": [
    "#Random Forest - Cross Validation Score\n",
    "cv_scores_test= cross_val_score(best_rfc, X_test, y_test.values.ravel(), cv=5, scoring='roc_auc')\n",
    "cv_scores_train= cross_val_score(best_rfc, X_train, y_train.values.ravel(), cv=5, scoring='roc_auc')\n",
    "print(cv_scores_test)\n",
    "cv_scores_rfc_test= cv_scores_test.mean()\n",
    "cv_scores_rfc_train= cv_scores_train.mean()\n",
    "cv_scores_std_test_rfc= cv_scores_test.std()\n",
    "print ('Mean cross validation test score: ' +str(cv_scores_rfc_test))\n",
    "print ('Mean cross validation train score: ' +str(cv_scores_rfc_train))\n",
    "print ('Standard deviation in cv test scores: ' +str(cv_scores_std_test_rfc))"
   ]
  },
  {
   "cell_type": "markdown",
   "metadata": {},
   "source": [
    "## Gradient Boosting "
   ]
  },
  {
   "cell_type": "markdown",
   "metadata": {},
   "source": [
    "##### Fit the model\n",
    "Doing GridSearch again for Gradient Boosting."
   ]
  },
  {
   "cell_type": "code",
   "execution_count": 34,
   "metadata": {},
   "outputs": [],
   "source": [
    "# TODO Let's fit, tune using grid search and get diagnostic information \n",
    "# (i.e. auc, classification report, feature importance, etc)"
   ]
  },
  {
   "cell_type": "code",
   "execution_count": 35,
   "metadata": {},
   "outputs": [],
   "source": [
    "gbc = GradientBoostingClassifier()\n",
    "param_grid = {\n",
    "    'n_estimators': [50, 100],\n",
    "    'learning_rate': [0.1, 0.01, 0.001],\n",
    "    'max_depth' : [2, 3, 4, 5, 6]\n",
    "}\n",
    "grid_search = GridSearchCV(estimator=gbc, param_grid=param_grid, cv=3)"
   ]
  },
  {
   "cell_type": "code",
   "execution_count": 36,
   "metadata": {},
   "outputs": [
    {
     "data": {
      "text/plain": [
       "GridSearchCV(cv=3, estimator=GradientBoostingClassifier(),\n",
       "             param_grid={'learning_rate': [0.1, 0.01, 0.001],\n",
       "                         'max_depth': [2, 3, 4, 5, 6],\n",
       "                         'n_estimators': [50, 100]})"
      ]
     },
     "execution_count": 36,
     "metadata": {},
     "output_type": "execute_result"
    }
   ],
   "source": [
    "grid_search.fit(X_train, y_train.values.ravel())"
   ]
  },
  {
   "cell_type": "code",
   "execution_count": 37,
   "metadata": {},
   "outputs": [
    {
     "data": {
      "text/plain": [
       "GradientBoostingClassifier(learning_rate=0.01, max_depth=2, n_estimators=50)"
      ]
     },
     "execution_count": 37,
     "metadata": {},
     "output_type": "execute_result"
    }
   ],
   "source": [
    "best_gbc = grid_search.best_estimator_\n",
    "best_gbc"
   ]
  },
  {
   "cell_type": "markdown",
   "metadata": {},
   "source": [
    "##### Predict on the test set for scoring/diagnostics"
   ]
  },
  {
   "cell_type": "code",
   "execution_count": 38,
   "metadata": {},
   "outputs": [],
   "source": [
    "y_pred = best_gbc.predict(X_test)\n",
    "y_prob = best_gbc.predict_proba(X_test)[::, 1]"
   ]
  },
  {
   "cell_type": "code",
   "execution_count": 39,
   "metadata": {},
   "outputs": [
    {
     "data": {
      "text/plain": [
       "<AxesSubplot:>"
      ]
     },
     "execution_count": 39,
     "metadata": {},
     "output_type": "execute_result"
    },
    {
     "data": {
      "image/png": "[encoded data removed]",
      "text/plain": [
       "<Figure size 432x288 with 1 Axes>"
      ]
     },
     "metadata": {
      "needs_background": "light"
     },
     "output_type": "display_data"
    }
   ],
   "source": [
    "pd.Series(y_prob).hist(bins=10)"
   ]
  },
  {
   "cell_type": "code",
   "execution_count": 40,
   "metadata": {},
   "outputs": [
    {
     "data": {
      "text/plain": [
       "0    1533\n",
       "dtype: int64"
      ]
     },
     "execution_count": 40,
     "metadata": {},
     "output_type": "execute_result"
    }
   ],
   "source": [
    "pd.Series(y_pred).value_counts()"
   ]
  },
  {
   "cell_type": "markdown",
   "metadata": {},
   "source": [
    "##### Metrics\n",
    "AUC Score - did model learn?"
   ]
  },
  {
   "cell_type": "code",
   "execution_count": 41,
   "metadata": {},
   "outputs": [
    {
     "name": "stdout",
     "output_type": "stream",
     "text": [
      "0.8309908050290861\n"
     ]
    }
   ],
   "source": [
    "print(roc_auc_score(y_test, y_prob)) #not as good as random forest"
   ]
  },
  {
   "cell_type": "markdown",
   "metadata": {},
   "source": [
    "Precision/Recall Plot - Ideal threshold number for Gradient Boosting?"
   ]
  },
  {
   "cell_type": "code",
   "execution_count": 42,
   "metadata": {},
   "outputs": [
    {
     "data": {
      "image/png": "[encoded data removed]",
      "text/plain": [
       "<Figure size 432x288 with 1 Axes>"
      ]
     },
     "metadata": {
      "needs_background": "light"
     },
     "output_type": "display_data"
    }
   ],
   "source": [
    "precision_recall_plot(X_test, y_test, best_gbc)"
   ]
  },
  {
   "cell_type": "markdown",
   "metadata": {},
   "source": [
    "Classification report - Let's see how well we're doing with precision and recall for stroke/non-stroke"
   ]
  },
  {
   "cell_type": "code",
   "execution_count": 43,
   "metadata": {},
   "outputs": [
    {
     "name": "stdout",
     "output_type": "stream",
     "text": [
      "              precision    recall  f1-score   support\n",
      "\n",
      "           0       0.98      0.79      0.88      1460\n",
      "           1       0.15      0.75      0.25        73\n",
      "\n",
      "    accuracy                           0.79      1533\n",
      "   macro avg       0.57      0.77      0.56      1533\n",
      "weighted avg       0.94      0.79      0.85      1533\n",
      "\n"
     ]
    }
   ],
   "source": [
    "get_classification_report(X_test, y_test, best_gbc, threshold=0.06)"
   ]
  },
  {
   "cell_type": "code",
   "execution_count": 44,
   "metadata": {},
   "outputs": [
    {
     "name": "stdout",
     "output_type": "stream",
     "text": [
      "              precision    recall  f1-score   support\n",
      "\n",
      "           0       0.95      0.99      0.97      1460\n",
      "           1       0.15      0.03      0.05        73\n",
      "\n",
      "    accuracy                           0.95      1533\n",
      "   macro avg       0.55      0.51      0.51      1533\n",
      "weighted avg       0.92      0.95      0.93      1533\n",
      "\n"
     ]
    }
   ],
   "source": [
    "get_classification_report(X_test, y_test, best_gbc, threshold=0.12)"
   ]
  },
  {
   "cell_type": "markdown",
   "metadata": {},
   "source": [
    "Maybe set threshold to 0.06 since recall is better for that range of number."
   ]
  },
  {
   "cell_type": "markdown",
   "metadata": {},
   "source": [
    "##### Model Explanation\n",
    "Feature Importance & Partial Dependence Plots"
   ]
  },
  {
   "cell_type": "code",
   "execution_count": 45,
   "metadata": {},
   "outputs": [],
   "source": [
    "gbc_feature_importance = pd.Series(best_gbc.feature_importances_, index=X.columns)"
   ]
  },
  {
   "cell_type": "code",
   "execution_count": 46,
   "metadata": {},
   "outputs": [
    {
     "data": {
      "text/plain": [
       "<AxesSubplot:>"
      ]
     },
     "execution_count": 46,
     "metadata": {},
     "output_type": "execute_result"
    },
    {
     "data": {
      "image/png": "[encoded data removed]",
      "text/plain": [
       "<Figure size 432x288 with 1 Axes>"
      ]
     },
     "metadata": {
      "needs_background": "light"
     },
     "output_type": "display_data"
    }
   ],
   "source": [
    "gbc_feature_importance.nlargest(10).sort_values(ascending=True).plot.barh()"
   ]
  },
  {
   "cell_type": "code",
   "execution_count": 47,
   "metadata": {},
   "outputs": [
    {
     "data": {
      "text/plain": [
       "<sklearn.inspection._plot.partial_dependence.PartialDependenceDisplay at 0x7fc98fe7cdd0>"
      ]
     },
     "execution_count": 47,
     "metadata": {},
     "output_type": "execute_result"
    },
    {
     "data": {
      "image/png": "[encoded data removed]",
      "text/plain": [
       "<Figure size 432x288 with 4 Axes>"
      ]
     },
     "metadata": {
      "needs_background": "light"
     },
     "output_type": "display_data"
    }
   ],
   "source": [
    "plot_partial_dependence(best_gbc, X_test, features=['age', 'avg_glucose_level', 'bmi'])"
   ]
  },
  {
   "cell_type": "code",
   "execution_count": 48,
   "metadata": {},
   "outputs": [
    {
     "name": "stdout",
     "output_type": "stream",
     "text": [
      "Accuracy score: 0.9523809523809523\n"
     ]
    }
   ],
   "source": [
    "#Gradient Boosting - Accuracy Score\n",
    "Accuracy_gbc = best_gbc.score(X_test,y_test)\n",
    "print('Accuracy score: ' +str(Accuracy_gbc))"
   ]
  },
  {
   "cell_type": "code",
   "execution_count": 49,
   "metadata": {},
   "outputs": [
    {
     "name": "stdout",
     "output_type": "stream",
     "text": [
      "[0.70308219 0.7880137  0.75388128 0.90264188 0.83671722]\n",
      "Mean cross validation test score: 0.7968672537508154\n",
      "Mean cross validation train score: 0.8182607376283848\n",
      "Standard deviation in cv test scores: 0.06855378695459682\n"
     ]
    }
   ],
   "source": [
    "#Gradient Boosting - Cross Validation Score\n",
    "cv_scores_test= cross_val_score(best_gbc, X_test, y_test.values.ravel(), cv=5, scoring='roc_auc')\n",
    "cv_scores_train= cross_val_score(best_gbc, X_train, y_train.values.ravel(), cv=5, scoring='roc_auc')\n",
    "print(cv_scores_test)\n",
    "cv_scores_gbc_test= cv_scores_test.mean()\n",
    "cv_scores_gbc_train= cv_scores_train.mean()\n",
    "cv_scores_std_test_gbc= cv_scores_test.std()\n",
    "print ('Mean cross validation test score: ' +str(cv_scores_gbc_test))\n",
    "print ('Mean cross validation train score: ' +str(cv_scores_gbc_train))\n",
    "print ('Standard deviation in cv test scores: ' +str(cv_scores_std_test_gbc))"
   ]
  },
  {
   "cell_type": "markdown",
   "metadata": {},
   "source": [
    "## Compare the models and draw insights\n",
    "What variable have and impact (in-depth on the columns)"
   ]
  },
  {
   "cell_type": "markdown",
   "metadata": {},
   "source": [
    "We applied different ML models above and evaluated their performances in terms of ROC-AUC score for both the training and test data. Here we have tabulated the scores and plotted them.\n",
    "Clearly, the Logistic Regression, and the Random Forest are the two best performing models. Both of the models are ensembled, based on decision trees.\n",
    "So, we will perform a grid search/ hyperparameter tuning for those two ML models."
   ]
  },
  {
   "cell_type": "code",
   "execution_count": 50,
   "metadata": {},
   "outputs": [
    {
     "name": "stdout",
     "output_type": "stream",
     "text": [
      "             Algorithm  Model accuracy score\n",
      "0  Logistic Regression              0.952381\n",
      "1        Random Forest              0.952381\n",
      "2       Gradient Boost              0.952381\n"
     ]
    },
    {
     "data": {
      "text/html": [
       "<div>\n",
       "<style scoped>\n",
       "    .dataframe tbody tr th:only-of-type {\n",
       "        vertical-align: middle;\n",
       "    }\n",
       "\n",
       "    .dataframe tbody tr th {\n",
       "        vertical-align: top;\n",
       "    }\n",
       "\n",
       "    .dataframe thead th {\n",
       "        text-align: right;\n",
       "    }\n",
       "</style>\n",
       "<table border=\"1\" class=\"dataframe\">\n",
       "  <thead>\n",
       "    <tr style=\"text-align: right;\">\n",
       "      <th></th>\n",
       "      <th>Algorithm</th>\n",
       "      <th>ROC-AUC train score</th>\n",
       "      <th>ROC-AUC test score</th>\n",
       "    </tr>\n",
       "  </thead>\n",
       "  <tbody>\n",
       "    <tr>\n",
       "      <th>0</th>\n",
       "      <td>Logistic Regression</td>\n",
       "      <td>0.838768</td>\n",
       "      <td>0.841181</td>\n",
       "    </tr>\n",
       "    <tr>\n",
       "      <th>1</th>\n",
       "      <td>Random Forest</td>\n",
       "      <td>0.842349</td>\n",
       "      <td>0.827255</td>\n",
       "    </tr>\n",
       "    <tr>\n",
       "      <th>2</th>\n",
       "      <td>Gradient Boost</td>\n",
       "      <td>0.818261</td>\n",
       "      <td>0.796867</td>\n",
       "    </tr>\n",
       "  </tbody>\n",
       "</table>\n",
       "</div>"
      ],
      "text/plain": [
       "             Algorithm  ROC-AUC train score  ROC-AUC test score\n",
       "0  Logistic Regression             0.838768            0.841181\n",
       "1        Random Forest             0.842349            0.827255\n",
       "2       Gradient Boost             0.818261            0.796867"
      ]
     },
     "execution_count": 50,
     "metadata": {},
     "output_type": "execute_result"
    }
   ],
   "source": [
    "myLabels = ['Logistic Regression', 'Random Forest', 'Gradient Boost']\n",
    "score_test= [cv_scores_lr_test, cv_scores_rfc_test, cv_scores_gbc_test]\n",
    "score_train= [ cv_scores_lr_train, cv_scores_rfc_train, cv_scores_gbc_train]\n",
    "Accuracy_score = [Accuracy_lr, Accuracy_rfc, Accuracy_gbc]\n",
    "\n",
    "score_tab_acc = pd.DataFrame(list(zip(myLabels, Accuracy_score)), \n",
    "               columns =['Algorithm', 'Model accuracy score']) \n",
    "\n",
    "score_tab = pd.DataFrame(list(zip(myLabels, score_train, score_test)), \n",
    "               columns =['Algorithm', 'ROC-AUC train score', 'ROC-AUC test score' ]) \n",
    "print(score_tab_acc)\n",
    "\n",
    "score_tab \n",
    "#I don't quite understand why the accuracy score is the same for all models?"
   ]
  },
  {
   "cell_type": "code",
   "execution_count": 51,
   "metadata": {},
   "outputs": [
    {
     "data": {
      "image/png": "[encoded data removed]",
      "text/plain": [
       "<Figure size 1080x720 with 1 Axes>"
      ]
     },
     "metadata": {
      "needs_background": "light"
     },
     "output_type": "display_data"
    }
   ],
   "source": [
    "#plotting and comparing ROC-AUC train/test scores:\n",
    "\n",
    "index=[1,2,3]\n",
    "index_acc=[1.2,2.2,3.2]\n",
    "plt.figure(figsize=(15,10))\n",
    "plt.xlabel('Models',fontsize=15)\n",
    "plt.ylabel ('ROC-AUC scores',fontsize=15)\n",
    "plt.title('Comparison of the algorithms',fontsize=15)\n",
    "\n",
    "_ = plt.bar(index,score_train,color='b',alpha=0.6,label='Training score',edgecolor='k',width=0.2)\n",
    "_ = plt.bar(index_acc,score_test,color='cyan',alpha=0.8,label='Test score',edgecolor='k',width=0.2)\n",
    "plt.xticks([1,2,3], myLabels)\n",
    "plt.legend()\n",
    "plt.savefig(\"27.png\")\n",
    "plt.show()"
   ]
  },
  {
   "cell_type": "markdown",
   "metadata": {},
   "source": [
    "Here we see that Random Forest has the best ROC_AUC scores for the training. Logistic Regression, however, has the best scores for testing."
   ]
  },
  {
   "cell_type": "markdown",
   "metadata": {},
   "source": [
    "##### Hyperparameter Tuning\n",
    "\n",
    "Now its time to Fit both the Logistic Regression and Random Forest models with the optimal hyperparameters. "
   ]
  },
  {
   "cell_type": "code",
   "execution_count": 57,
   "metadata": {},
   "outputs": [
    {
     "name": "stdout",
     "output_type": "stream",
     "text": [
      "RandomForestClassifier(max_depth=2, n_estimators=50, n_jobs=-1, random_state=1)\n",
      "0.9507829977628636\n"
     ]
    }
   ],
   "source": [
    "#Random Forest - Parameter Tuning \n",
    "rfc = RandomForestClassifier(max_features='auto',random_state=1, n_jobs=-1)\n",
    "param_grid = {\n",
    "    'n_estimators': [50, 100,400,700,1000],\n",
    "    'max_features': ['auto', 'sqrt', 'log2'],\n",
    "    'max_depth' : [2, 3, 4],\n",
    "    'criterion' :['gini', 'entropy'],\n",
    "    \"min_samples_leaf\" : [1, 5, 10],\n",
    "    \"min_samples_split\" : [2, 4, 10,12,16]\n",
    "}\n",
    "grid_search = GridSearchCV(estimator=rfc, param_grid=param_grid, cv=3, scoring='accuracy', n_jobs=-1)\n",
    "grid_search.fit(X_train, y_train.values.ravel())\n",
    "\n",
    "best_rfc = grid_search.best_estimator_\n",
    "best_score_rfc = grid_search.best_score_\n",
    "print(best_rfc)\n",
    "print(best_score_rfc)\n",
    "\n",
    "#example\n",
    "#rf = RandomForestClassifier(max_features='auto',random_state=1, n_jobs=-1)\n",
    "#param_grid = { \"criterion\" : [\"gini\", \"entropy\"], \"min_samples_leaf\" : [1, 5, 10], \"min_samples_split\" : [2, 4, 10,12,16], \"n_estimators\": [50, 100,400,700,1000]}\n",
    "#gs = GridSearchCV(estimator=rf, param_grid=param_grid, scoring='accuracy', cv=3, n_jobs=-1)\n",
    "#gs = gs.fit(X_train, y_train)\n",
    "#print(gs.best_estimator_) \n",
    "#print(gs.best_score_)"
   ]
  },
  {
   "cell_type": "code",
   "execution_count": 65,
   "metadata": {},
   "outputs": [
    {
     "name": "stderr",
     "output_type": "stream",
     "text": [
      "/opt/anaconda3/lib/python3.7/site-packages/sklearn/model_selection/_validation.py:598: DataConversionWarning: A column-vector y was passed when a 1d array was expected. Please change the shape of y to (n_samples,), for example using ravel().\n",
      "  estimator.fit(X_train, y_train, **fit_params)\n",
      "/opt/anaconda3/lib/python3.7/site-packages/sklearn/model_selection/_validation.py:598: DataConversionWarning: A column-vector y was passed when a 1d array was expected. Please change the shape of y to (n_samples,), for example using ravel().\n",
      "  estimator.fit(X_train, y_train, **fit_params)\n",
      "/opt/anaconda3/lib/python3.7/site-packages/sklearn/model_selection/_validation.py:598: DataConversionWarning: A column-vector y was passed when a 1d array was expected. Please change the shape of y to (n_samples,), for example using ravel().\n",
      "  estimator.fit(X_train, y_train, **fit_params)\n",
      "/opt/anaconda3/lib/python3.7/site-packages/sklearn/model_selection/_validation.py:598: DataConversionWarning: A column-vector y was passed when a 1d array was expected. Please change the shape of y to (n_samples,), for example using ravel().\n",
      "  estimator.fit(X_train, y_train, **fit_params)\n",
      "/opt/anaconda3/lib/python3.7/site-packages/sklearn/model_selection/_validation.py:598: DataConversionWarning: A column-vector y was passed when a 1d array was expected. Please change the shape of y to (n_samples,), for example using ravel().\n",
      "  estimator.fit(X_train, y_train, **fit_params)\n"
     ]
    },
    {
     "name": "stdout",
     "output_type": "stream",
     "text": [
      "0.9523809523809523\n",
      "0.8324494455316372\n"
     ]
    }
   ],
   "source": [
    "#Random Forest - Fitting with optimal hyperparameters\n",
    "rfc_hp = RandomForestClassifier(max_depth=2, n_estimators=50, n_jobs=-1, random_state=1)\n",
    "\n",
    "rfc_hp.fit(X_train, y_train.values.ravel()) #y_train.values.ravel()\n",
    "\n",
    "y_pred_rfc_hp = rfc_hp.predict(X_test)\n",
    "acc = accuracy_score(y_test, y_pred_rfc_hp)\n",
    "cv = cross_val_score(rfc_hp, X_test, y_test,scoring='roc_auc').mean()\n",
    "print(acc)\n",
    "print(cv)\n",
    "\n",
    "#example\n",
    "#rf = RandomForestClassifier(bootstrap=True, class_weight=None, criterion='entropy',\n",
    "            #max_depth=None, max_features='auto', max_leaf_nodes=None,\n",
    "            #min_impurity_decrease=0.0, min_impurity_split=None,\n",
    "            #min_samples_leaf=1, min_samples_split=2,\n",
    "            #min_weight_fraction_leaf=0.0, n_estimators=1000, n_jobs=-1,\n",
    "            #oob_score=False, random_state=1, verbose=0, warm_start=False)\n",
    "#rf.fit(X_train, y_train)\n",
    "#y_predictions_rf = rf.predict(X_test)\n",
    "#acc = accuracy_score(y_test, y_predictions)\n",
    "#cv = cross_val_score(rf, X_test, y_test,scoring='roc_auc').mean()\n",
    "#print(acc)\n",
    "#print(cv)"
   ]
  },
  {
   "cell_type": "code",
   "execution_count": 66,
   "metadata": {},
   "outputs": [
    {
     "data": {
      "text/plain": [
       "<AxesSubplot:>"
      ]
     },
     "execution_count": 66,
     "metadata": {},
     "output_type": "execute_result"
    },
    {
     "data": {
      "image/png": "[encoded data removed]",
      "text/plain": [
       "<Figure size 432x288 with 1 Axes>"
      ]
     },
     "metadata": {
      "needs_background": "light"
     },
     "output_type": "display_data"
    }
   ],
   "source": [
    "#Random Forest - Feature Importances\n",
    "rfc_hp_feature_importance = pd.Series(best_rfc.feature_importances_, index=X.columns)\n",
    "rfc_hp_feature_importance.nlargest(10).sort_values(ascending=True).plot.barh()\n",
    "\n",
    "#example"
   ]
  },
  {
   "cell_type": "code",
   "execution_count": null,
   "metadata": {},
   "outputs": [],
   "source": []
  },
  {
   "cell_type": "code",
   "execution_count": null,
   "metadata": {},
   "outputs": [],
   "source": []
  },
  {
   "cell_type": "code",
   "execution_count": null,
   "metadata": {},
   "outputs": [],
   "source": []
  }
 ],
 "metadata": {
  "kernelspec": {
   "display_name": "Python 3",
   "language": "python",
   "name": "python3"
  },
  "language_info": {
   "codemirror_mode": {
    "name": "ipython",
    "version": 3
   },
   "file_extension": ".py",
   "mimetype": "text/x-python",
   "name": "python",
   "nbconvert_exporter": "python",
   "pygments_lexer": "ipython3",
   "version": "3.7.4"
  },
  "toc": {
   "base_numbering": 1,
   "nav_menu": {},
   "number_sections": true,
   "sideBar": true,
   "skip_h1_title": false,
   "title_cell": "Table of Contents",
   "title_sidebar": "Contents",
   "toc_cell": false,
   "toc_position": {},
   "toc_section_display": true,
   "toc_window_display": true
  },
  "varInspector": {
   "cols": {
    "lenName": 16,
    "lenType": 16,
    "lenVar": 40
   },
   "kernels_config": {
    "python": {
     "delete_cmd_postfix": "",
     "delete_cmd_prefix": "del ",
     "library": "var_list.py",
     "varRefreshCmd": "print(var_dic_list())"
    },
    "r": {
     "delete_cmd_postfix": ") ",
     "delete_cmd_prefix": "rm(",
     "library": "var_list.r",
     "varRefreshCmd": "cat(var_dic_list()) "
    }
   },
   "types_to_exclude": [
    "module",
    "function",
    "builtin_function_or_method",
    "instance",
    "_Feature"
   ],
   "window_display": false
  }
 },
 "nbformat": 4,
 "nbformat_minor": 4
}
